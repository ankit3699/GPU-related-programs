{
  "nbformat": 4,
  "nbformat_minor": 0,
  "metadata": {
    "colab": {
      "name": "Matrix_mul.ipynb",
      "provenance": [],
      "collapsed_sections": []
    },
    "kernelspec": {
      "name": "python3",
      "display_name": "Python 3"
    },
    "language_info": {
      "name": "python"
    },
    "accelerator": "GPU"
  },
  "cells": [
    {
      "cell_type": "markdown",
      "metadata": {
        "id": "POT131dQaUV3"
      },
      "source": [
        "#Matrix Multiplication using numba \n",
        "\n",
        "In this Matrix Multiplication we use Numba that runs on JIT compiler."
      ]
    },
    {
      "cell_type": "code",
      "metadata": {
        "id": "gn8s0pXHYsw6"
      },
      "source": [
        "import time\n",
        "import numba\n",
        "from numba import jit\n",
        "import numpy as np"
      ],
      "execution_count": 1,
      "outputs": []
    },
    {
      "cell_type": "code",
      "metadata": {
        "id": "HX2pCrtUFsdn"
      },
      "source": [
        "i1 = 100\n",
        "i2 = 100\n",
        "i3 = 100"
      ],
      "execution_count": 2,
      "outputs": []
    },
    {
      "cell_type": "code",
      "metadata": {
        "id": "sJe53SJUHBlE"
      },
      "source": [
        "a = np.random.rand(i1,i2)\n",
        "b = np.random.rand(i2,i3)"
      ],
      "execution_count": 3,
      "outputs": []
    },
    {
      "cell_type": "code",
      "metadata": {
        "id": "EoNEhKZWS-I3"
      },
      "source": [
        "@jit('void(float64[:,:],float64[:,:],float64[:,:])')\n",
        "def gpumul(matrix1,matrix2,rmatrix):\n",
        "  for i in range(len(matrix1)):\n",
        "    for j in range(len(matrix2[0])):\n",
        "      for k in range(len(matrix2)):\n",
        "        rmatrix[i][j] += matrix1[i][k] * matrix2[k][j]"
      ],
      "execution_count": 4,
      "outputs": []
    },
    {
      "cell_type": "code",
      "metadata": {
        "colab": {
          "base_uri": "https://localhost:8080/"
        },
        "id": "-QapCwvXjM0Y",
        "outputId": "cf206e12-26e5-4e6c-edec-fdf92c1a4a72"
      },
      "source": [
        "gpumatrix = np.zeros(shape=(i1,i3))\n",
        "\n",
        "start = time.clock()\n",
        "gpumul(a,b,gpumatrix)\n",
        "end=time.clock()\n",
        "\n",
        "dt_gpu = end-start"
      ],
      "execution_count": 5,
      "outputs": [
        {
          "output_type": "stream",
          "text": [
            "/usr/local/lib/python3.7/dist-packages/ipykernel_launcher.py:3: DeprecationWarning: time.clock has been deprecated in Python 3.3 and will be removed from Python 3.8: use time.perf_counter or time.process_time instead\n",
            "  This is separate from the ipykernel package so we can avoid doing imports until\n",
            "/usr/local/lib/python3.7/dist-packages/ipykernel_launcher.py:5: DeprecationWarning: time.clock has been deprecated in Python 3.3 and will be removed from Python 3.8: use time.perf_counter or time.process_time instead\n",
            "  \"\"\"\n"
          ],
          "name": "stderr"
        }
      ]
    },
    {
      "cell_type": "code",
      "metadata": {
        "colab": {
          "base_uri": "https://localhost:8080/"
        },
        "id": "tbHLFuJDFWaA",
        "outputId": "d3f587f7-59ec-4b7f-9c42-06234c874756"
      },
      "source": [
        "\n",
        "print(\"Matrix multipliation on GPU in %f s\" % dt_gpu)"
      ],
      "execution_count": 6,
      "outputs": [
        {
          "output_type": "stream",
          "text": [
            "Matrix multipliation on GPU in 0.003411 s\n"
          ],
          "name": "stdout"
        }
      ]
    },
    {
      "cell_type": "code",
      "metadata": {
        "id": "Hb1hBPXZIRbe"
      },
      "source": [
        "def cpumul(matrix1,matrix2,rmatrix):\n",
        "  for i in range(len(matrix1)):\n",
        "    for j in range(len(matrix2[0])):\n",
        "      for k in range(len(matrix2)):\n",
        "        rmatrix[i][j] += matrix1[i][k] * matrix2[k][j]\n"
      ],
      "execution_count": 7,
      "outputs": []
    },
    {
      "cell_type": "code",
      "metadata": {
        "id": "NSOSun8HK563",
        "colab": {
          "base_uri": "https://localhost:8080/"
        },
        "outputId": "f8a90ac2-799f-4486-9c1b-d7f9f7c41024"
      },
      "source": [
        "cpumatrix = np.zeros(shape=(i1,i3))\n",
        "\n",
        "start = time.clock()\n",
        "cpumul(a,b,cpumatrix)\n",
        "end=time.clock()\n",
        "\n",
        "#print results\n",
        "dt_cpu = end-start"
      ],
      "execution_count": 8,
      "outputs": [
        {
          "output_type": "stream",
          "text": [
            "/usr/local/lib/python3.7/dist-packages/ipykernel_launcher.py:3: DeprecationWarning: time.clock has been deprecated in Python 3.3 and will be removed from Python 3.8: use time.perf_counter or time.process_time instead\n",
            "  This is separate from the ipykernel package so we can avoid doing imports until\n",
            "/usr/local/lib/python3.7/dist-packages/ipykernel_launcher.py:5: DeprecationWarning: time.clock has been deprecated in Python 3.3 and will be removed from Python 3.8: use time.perf_counter or time.process_time instead\n",
            "  \"\"\"\n"
          ],
          "name": "stderr"
        }
      ]
    },
    {
      "cell_type": "code",
      "metadata": {
        "colab": {
          "base_uri": "https://localhost:8080/"
        },
        "id": "EKO8si018jEE",
        "outputId": "227a424c-d504-42c1-bd86-b066496dcc29"
      },
      "source": [
        "gpu_info = !nvidia-smi\n",
        "gpu_info = '\\n'.join(gpu_info)\n",
        "if gpu_info.find('failed') >= 0:\n",
        "  print('Select the Runtime > \"Change runtime type\" menu to enable a GPU accelerator, ')\n",
        "  print('and then re-execute this cell.')\n",
        "else:\n",
        "  print(gpu_info)"
      ],
      "execution_count": 9,
      "outputs": [
        {
          "output_type": "stream",
          "text": [
            "Sat Aug 14 11:12:31 2021       \n",
            "+-----------------------------------------------------------------------------+\n",
            "| NVIDIA-SMI 470.42.01    Driver Version: 460.32.03    CUDA Version: 11.2     |\n",
            "|-------------------------------+----------------------+----------------------+\n",
            "| GPU  Name        Persistence-M| Bus-Id        Disp.A | Volatile Uncorr. ECC |\n",
            "| Fan  Temp  Perf  Pwr:Usage/Cap|         Memory-Usage | GPU-Util  Compute M. |\n",
            "|                               |                      |               MIG M. |\n",
            "|===============================+======================+======================|\n",
            "|   0  Tesla T4            Off  | 00000000:00:04.0 Off |                    0 |\n",
            "| N/A   40C    P8     9W /  70W |      0MiB / 15109MiB |      0%      Default |\n",
            "|                               |                      |                  N/A |\n",
            "+-------------------------------+----------------------+----------------------+\n",
            "                                                                               \n",
            "+-----------------------------------------------------------------------------+\n",
            "| Processes:                                                                  |\n",
            "|  GPU   GI   CI        PID   Type   Process name                  GPU Memory |\n",
            "|        ID   ID                                                   Usage      |\n",
            "|=============================================================================|\n",
            "|  No running processes found                                                 |\n",
            "+-----------------------------------------------------------------------------+\n"
          ],
          "name": "stdout"
        }
      ]
    },
    {
      "cell_type": "code",
      "metadata": {
        "colab": {
          "base_uri": "https://localhost:8080/"
        },
        "id": "_qxgtndd9NfW",
        "outputId": "8be2c0f2-0eb1-48c6-ccec-39be2681448f"
      },
      "source": [
        "print(\"Matrix multipliation on CPU in %f s\" % dt_cpu)\n",
        "print(\"Matrix multipliation on GPU in %f s\" % dt_gpu)"
      ],
      "execution_count": 10,
      "outputs": [
        {
          "output_type": "stream",
          "text": [
            "Matrix multipliation on CPU in 1.218572 s\n",
            "Matrix multipliation on GPU in 0.003411 s\n"
          ],
          "name": "stdout"
        }
      ]
    },
    {
      "cell_type": "code",
      "metadata": {
        "colab": {
          "base_uri": "https://localhost:8080/"
        },
        "id": "4RQlBNT189f4",
        "outputId": "e53c2542-d466-474d-aab5-07044b1c603e"
      },
      "source": [
        "np.allclose(cpumatrix,gpumatrix)"
      ],
      "execution_count": 11,
      "outputs": [
        {
          "output_type": "execute_result",
          "data": {
            "text/plain": [
              "True"
            ]
          },
          "metadata": {
            "tags": []
          },
          "execution_count": 11
        }
      ]
    },
    {
      "cell_type": "code",
      "metadata": {
        "id": "fLCtPZzL9dNz"
      },
      "source": [
        ""
      ],
      "execution_count": 11,
      "outputs": []
    }
  ]
}